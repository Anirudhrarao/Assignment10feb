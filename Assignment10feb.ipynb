{
 "cells": [
  {
   "cell_type": "markdown",
   "id": "9e722040",
   "metadata": {},
   "source": [
    "### Solution (1)\n",
    "* open() function is used to open file in python.\n",
    "\n",
    "1. 'r'       open for reading (default)\n",
    "2. 'w'       open for writing, truncating the file first\n",
    "3. 'x'       create a new file and open it for writing\n",
    "4. 'a'       open for writing, appending to the end of the file if it exists\n",
    "5. 'b'       binary mode\n",
    "6. 't'       text mode (default)\n",
    "7. '+'       open a disk file for updating (reading and writing)"
   ]
  },
  {
   "cell_type": "markdown",
   "id": "00e2317b",
   "metadata": {},
   "source": [
    "### Solution (2)\n",
    "* The close() function is used to close a file it is necessary to close because the close function flushes the unwritten information and also used to update after use of file."
   ]
  },
  {
   "cell_type": "markdown",
   "id": "add2d847",
   "metadata": {},
   "source": [
    "### Solution (3)"
   ]
  },
  {
   "cell_type": "code",
   "execution_count": 1,
   "id": "73a385e1",
   "metadata": {},
   "outputs": [],
   "source": [
    "f = open('test.txt','w')"
   ]
  },
  {
   "cell_type": "code",
   "execution_count": 2,
   "id": "7e665514",
   "metadata": {},
   "outputs": [
    {
     "data": {
      "text/plain": [
       "33"
      ]
     },
     "execution_count": 2,
     "metadata": {},
     "output_type": "execute_result"
    }
   ],
   "source": [
    "f.write(\"I want to become a Data Scientist\")"
   ]
  },
  {
   "cell_type": "code",
   "execution_count": 3,
   "id": "d508cc59",
   "metadata": {},
   "outputs": [],
   "source": [
    "f.close()"
   ]
  },
  {
   "cell_type": "code",
   "execution_count": 4,
   "id": "18d256db",
   "metadata": {},
   "outputs": [],
   "source": [
    "f = open('test.txt','r')"
   ]
  },
  {
   "cell_type": "code",
   "execution_count": 5,
   "id": "77bd8dea",
   "metadata": {},
   "outputs": [
    {
     "data": {
      "text/plain": [
       "'I want to become a Data Scientist'"
      ]
     },
     "execution_count": 5,
     "metadata": {},
     "output_type": "execute_result"
    }
   ],
   "source": [
    "f.read()"
   ]
  },
  {
   "cell_type": "markdown",
   "id": "d1ee1bb6",
   "metadata": {},
   "source": [
    "### Solution (4)\n",
    "* read() - it will read all the content from the file.\n",
    "* readline() - it will read particular file line\n",
    "* readlines() - read all lines and return in it list"
   ]
  },
  {
   "cell_type": "code",
   "execution_count": 36,
   "id": "5815e4e5",
   "metadata": {},
   "outputs": [],
   "source": [
    "f = open(\"test1.txt\",'w')"
   ]
  },
  {
   "cell_type": "code",
   "execution_count": 37,
   "id": "7a2c327b",
   "metadata": {},
   "outputs": [
    {
     "data": {
      "text/plain": [
       "19"
      ]
     },
     "execution_count": 37,
     "metadata": {},
     "output_type": "execute_result"
    }
   ],
   "source": [
    "f.write(\"This is first line\\n\")"
   ]
  },
  {
   "cell_type": "code",
   "execution_count": 38,
   "id": "35151e53",
   "metadata": {},
   "outputs": [
    {
     "data": {
      "text/plain": [
       "19"
      ]
     },
     "execution_count": 38,
     "metadata": {},
     "output_type": "execute_result"
    }
   ],
   "source": [
    "f.write(\"This is first line\\n\")"
   ]
  },
  {
   "cell_type": "code",
   "execution_count": 39,
   "id": "850f490b",
   "metadata": {},
   "outputs": [
    {
     "data": {
      "text/plain": [
       "19"
      ]
     },
     "execution_count": 39,
     "metadata": {},
     "output_type": "execute_result"
    }
   ],
   "source": [
    "f.write(\"This is first line\\n\")"
   ]
  },
  {
   "cell_type": "code",
   "execution_count": 40,
   "id": "dbc6af37",
   "metadata": {},
   "outputs": [],
   "source": [
    "f.close()"
   ]
  },
  {
   "cell_type": "code",
   "execution_count": 41,
   "id": "6fb0c53c",
   "metadata": {},
   "outputs": [],
   "source": [
    "f = open(\"test1.txt\",\"r\")"
   ]
  },
  {
   "cell_type": "code",
   "execution_count": 42,
   "id": "18a698b7",
   "metadata": {},
   "outputs": [
    {
     "data": {
      "text/plain": [
       "'This is first line\\nThis is first line\\nThis is first line\\n'"
      ]
     },
     "execution_count": 42,
     "metadata": {},
     "output_type": "execute_result"
    }
   ],
   "source": [
    "f.read()"
   ]
  },
  {
   "cell_type": "code",
   "execution_count": 47,
   "id": "2359816a",
   "metadata": {},
   "outputs": [
    {
     "data": {
      "text/plain": [
       "0"
      ]
     },
     "execution_count": 47,
     "metadata": {},
     "output_type": "execute_result"
    }
   ],
   "source": [
    "f.seek(0)"
   ]
  },
  {
   "cell_type": "code",
   "execution_count": 48,
   "id": "b60c9480",
   "metadata": {},
   "outputs": [
    {
     "data": {
      "text/plain": [
       "'This is first line\\n'"
      ]
     },
     "execution_count": 48,
     "metadata": {},
     "output_type": "execute_result"
    }
   ],
   "source": [
    "f.readline()"
   ]
  },
  {
   "cell_type": "code",
   "execution_count": 49,
   "id": "ec928cdf",
   "metadata": {},
   "outputs": [
    {
     "data": {
      "text/plain": [
       "['This is first line\\n', 'This is first line\\n']"
      ]
     },
     "execution_count": 49,
     "metadata": {},
     "output_type": "execute_result"
    }
   ],
   "source": [
    "f.readlines()"
   ]
  },
  {
   "cell_type": "markdown",
   "id": "204f8f95",
   "metadata": {},
   "source": [
    "### Solution (5)\n",
    "* When we use open() function we need to close a file.\n",
    "* But open with with function is not make any issues there is no need to close a file.\n",
    "* advantage:  the file will be closed as soon as you leave the block."
   ]
  },
  {
   "cell_type": "markdown",
   "id": "b522d3fd",
   "metadata": {},
   "source": [
    "### Solution (6)\n",
    "* write method take string as argument and writes in text file.\n",
    "* writelines method is used to write a multiple string ,we need to pass iterable object like list, tuple containing strings."
   ]
  },
  {
   "cell_type": "code",
   "execution_count": null,
   "id": "bb173a09",
   "metadata": {},
   "outputs": [],
   "source": []
  }
 ],
 "metadata": {
  "kernelspec": {
   "display_name": "Python 3 (ipykernel)",
   "language": "python",
   "name": "python3"
  },
  "language_info": {
   "codemirror_mode": {
    "name": "ipython",
    "version": 3
   },
   "file_extension": ".py",
   "mimetype": "text/x-python",
   "name": "python",
   "nbconvert_exporter": "python",
   "pygments_lexer": "ipython3",
   "version": "3.11.1"
  }
 },
 "nbformat": 4,
 "nbformat_minor": 5
}
